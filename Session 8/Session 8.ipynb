{
 "cells": [
  {
   "cell_type": "code",
   "execution_count": 2,
   "metadata": {},
   "outputs": [],
   "source": [
    "from pyspark.sql import SparkSession\n",
    "\n",
    "spark = SparkSession.builder.getOrCreate()"
   ]
  },
  {
   "cell_type": "code",
   "execution_count": 6,
   "metadata": {},
   "outputs": [],
   "source": [
    "# 1. kita baca CSV \n",
    "df_ramen = spark.read.csv(\"./MsRamen.csv\", header=True, inferSchema=True)\n",
    "df_th = spark.read.csv(\"./TransactionHeader.csv\", header=True, inferSchema=True)\n",
    "df_td = spark.read.csv(\"./TransactionDetail.csv\", header=True, inferSchema=True)\n",
    "df_customer = spark.read.csv(\"./MsCustomer.csv\", header=True, inferSchema=True)\n",
    "# df_ramen.show()"
   ]
  },
  {
   "cell_type": "code",
   "execution_count": 7,
   "metadata": {},
   "outputs": [],
   "source": [
    "df_ramen.registerTempTable(\"MsRamen\")\n",
    "df_th.registerTempTable(\"TransactionHeader\")\n",
    "df_td.registerTempTable(\"TransactionDetail\")\n",
    "df_customer.registerTempTable(\"MsCustomer\")"
   ]
  },
  {
   "cell_type": "code",
   "execution_count": 31,
   "metadata": {},
   "outputs": [
    {
     "name": "stdout",
     "output_type": "stream",
     "text": [
      "+----------------+-------+----------------+\n",
      "|    CustomerName|Expense|SpendingCategory|\n",
      "+----------------+-------+----------------+\n",
      "|Lorene MacParlan|1431000|   Above Average|\n",
      "|   Jacobo Zemler|2055000|   Above Average|\n",
      "|   Arney Dunkley|1061000|   Below Average|\n",
      "|  Rhona Sutterby|1388000|   Above Average|\n",
      "|     Marve Dagon|3172000|   Above Average|\n",
      "|  Marilin Balfre|1925000|   Above Average|\n",
      "| Salomi Georgins|2723000|   Above Average|\n",
      "|  Clint Faulkner|1722000|   Above Average|\n",
      "| Kaitlyn McKaile|1482000|   Above Average|\n",
      "|    Stan Twydell| 495000|   Below Average|\n",
      "|   Willey Mepham|2250000|   Above Average|\n",
      "| Gabbey Silcocks|2294000|   Above Average|\n",
      "|    Debee Kenson|2240000|   Above Average|\n",
      "|Ellette Gonsalvo|1715000|   Above Average|\n",
      "|     Rhett Marco|1220000|   Below Average|\n",
      "| Windham Houlson| 946000|   Below Average|\n",
      "|     Lenci Brace| 930000|   Below Average|\n",
      "| Kingsly Dabling|1110000|   Below Average|\n",
      "| Aila Tomaszczyk| 531000|   Below Average|\n",
      "| Rudolph Tetther|1300000|   Above Average|\n",
      "+----------------+-------+----------------+\n",
      "only showing top 20 rows\n",
      "\n"
     ]
    }
   ],
   "source": [
    "# Raw SQL\n",
    "# 1. Cari expanse customer\n",
    "# 2. Cari tau rata-rata expense customer\n",
    "\n",
    "raw  = \"\"\"\n",
    "        WITH cte AS (\n",
    "        SELECT AVG(sq.Expense) AS AverageExpense\n",
    "        FROM (\n",
    "            SELECT \n",
    "                mc.CustomerName,\n",
    "                SUM(td.Quantity * mr.RamenPrice) AS Expense\n",
    "                FROM MsCustomer mc JOIN TransactionHeader th \n",
    "                     ON mc.CustomerId = th.CustomerId\n",
    "                     JOIN TransactionDetail td \n",
    "                     ON td.TransactionId = th.TransactionId\n",
    "                     JOIN MsRamen mr \n",
    "                     ON mr.RamenId = td.RamenId\n",
    "                GROUP BY CustomerName\n",
    "            ) AS sq )\n",
    "            SELECT\n",
    "            mc.CustomerName, SUM(td.Quantity * mr.RamenPrice) AS Expense,\n",
    "            CASE\n",
    "                WHEN SUM(td.Quantity * mr.RamenPrice) > (SELECT AverageExpense FROM cte)\n",
    "                THEN \"Above Average\"\n",
    "                ELSE \"Below Average\"\n",
    "            END AS SpendingCategory\n",
    "            FROM MsCustomer mc JOIN TransactionHeader th \n",
    "                     ON mc.CustomerId = th.CustomerId\n",
    "                     JOIN TransactionDetail td \n",
    "                     ON td.TransactionId = th.TransactionId\n",
    "                     JOIN MsRamen mr \n",
    "                     ON mr.RamenId = td.RamenId\n",
    "                     GROUP BY CustomerName\n",
    "            \n",
    "\"\"\"\n",
    "\n",
    "# CTE -> Common Table Expression\n",
    "spark.sql(raw).show()"
   ]
  },
  {
   "cell_type": "code",
   "execution_count": 38,
   "metadata": {},
   "outputs": [
    {
     "name": "stdout",
     "output_type": "stream",
     "text": [
      "+----------------+-------+\n",
      "|    CustomerName|Expense|\n",
      "+----------------+-------+\n",
      "|Lorene MacParlan|1431000|\n",
      "|   Jacobo Zemler|2055000|\n",
      "|   Arney Dunkley|1061000|\n",
      "|  Rhona Sutterby|1388000|\n",
      "|     Marve Dagon|3172000|\n",
      "|  Marilin Balfre|1925000|\n",
      "| Salomi Georgins|2723000|\n",
      "|  Clint Faulkner|1722000|\n",
      "| Kaitlyn McKaile|1482000|\n",
      "|    Stan Twydell| 495000|\n",
      "|   Willey Mepham|2250000|\n",
      "| Gabbey Silcocks|2294000|\n",
      "|    Debee Kenson|2240000|\n",
      "|Ellette Gonsalvo|1715000|\n",
      "|     Rhett Marco|1220000|\n",
      "| Windham Houlson| 946000|\n",
      "|     Lenci Brace| 930000|\n",
      "| Kingsly Dabling|1110000|\n",
      "| Aila Tomaszczyk| 531000|\n",
      "| Rudolph Tetther|1300000|\n",
      "+----------------+-------+\n",
      "only showing top 20 rows\n",
      "\n"
     ]
    }
   ],
   "source": [
    "# Query Builder\n",
    "from pyspark.sql.functions import *\n",
    "\n",
    "customer_spending = df_th\\\n",
    ".join(df_td, \"TransactionId\")\\\n",
    ".join(df_customer, \"CustomerId\")\\\n",
    ".join(df_ramen, \"RamenId\")\\\n",
    ".groupBy(\"CustomerName\")\\\n",
    ".agg(sum(col(\"Quantity\") * col(\"RamenPrice\"))\\\n",
    "     .alias(\"Expense\"))\n",
    "\n",
    "\n",
    "\n",
    "\n",
    "customer_spending.show()"
   ]
  },
  {
   "cell_type": "code",
   "execution_count": 39,
   "metadata": {},
   "outputs": [
    {
     "name": "stdout",
     "output_type": "stream",
     "text": [
      "+------------------+\n",
      "|   AverageSpending|\n",
      "+------------------+\n",
      "|1291062.9539951575|\n",
      "+------------------+\n",
      "\n"
     ]
    }
   ],
   "source": [
    "# 2. Cari rata-rata\n",
    "\n",
    "average_spending = customer_spending\\\n",
    ".agg(avg(\"Expense\").alias(\"AverageSpending\"))\n",
    "\n",
    "average_spending.show()"
   ]
  },
  {
   "cell_type": "code",
   "execution_count": 40,
   "metadata": {},
   "outputs": [
    {
     "name": "stdout",
     "output_type": "stream",
     "text": [
      "+----------------+-------+----------------+\n",
      "|    CustomerName|Expense|SpendingCategory|\n",
      "+----------------+-------+----------------+\n",
      "|Lorene MacParlan|1431000|   Above Average|\n",
      "|   Jacobo Zemler|2055000|   Above Average|\n",
      "|   Arney Dunkley|1061000|   Below Average|\n",
      "|  Rhona Sutterby|1388000|   Above Average|\n",
      "|     Marve Dagon|3172000|   Above Average|\n",
      "|  Marilin Balfre|1925000|   Above Average|\n",
      "| Salomi Georgins|2723000|   Above Average|\n",
      "|  Clint Faulkner|1722000|   Above Average|\n",
      "| Kaitlyn McKaile|1482000|   Above Average|\n",
      "|    Stan Twydell| 495000|   Below Average|\n",
      "|   Willey Mepham|2250000|   Above Average|\n",
      "| Gabbey Silcocks|2294000|   Above Average|\n",
      "|    Debee Kenson|2240000|   Above Average|\n",
      "|Ellette Gonsalvo|1715000|   Above Average|\n",
      "|     Rhett Marco|1220000|   Below Average|\n",
      "| Windham Houlson| 946000|   Below Average|\n",
      "|     Lenci Brace| 930000|   Below Average|\n",
      "| Kingsly Dabling|1110000|   Below Average|\n",
      "| Aila Tomaszczyk| 531000|   Below Average|\n",
      "| Rudolph Tetther|1300000|   Above Average|\n",
      "+----------------+-------+----------------+\n",
      "only showing top 20 rows\n",
      "\n"
     ]
    }
   ],
   "source": [
    "result = customer_spending.select(\n",
    "    \"CustomerName\",\n",
    "    \"Expense\",\n",
    "    when(col(\"Expense\") > average_spending.\\\n",
    "        first()[\"AverageSpending\"], \"Above Average\")\n",
    "    .when(col(\"Expense\") == average_spending.\\\n",
    "         first()[\"AverageSpending\"], \"Average\")\n",
    "    .otherwise(\"Below Average\")\\\n",
    "    .alias(\"SpendingCategory\")\n",
    ")\n",
    "\n",
    "result.show()"
   ]
  },
  {
   "cell_type": "code",
   "execution_count": null,
   "metadata": {},
   "outputs": [],
   "source": [
    "# Bar Plot\n",
    "\n",
    "raw_query = \"\"\"\n",
    "    SELECT MONTH(TransactionDate) AS Month,\n",
    "    COUNT(*) AS TransactionCount\n",
    "    From TransactionHeader\n",
    "    GROUP BY MONTH(TransactionDate)\n",
    "    ORDER BY Month\n",
    "    \n",
    "\"\"\"\n",
    "\n",
    "import mathlib.plot\n"
   ]
  },
  {
   "cell_type": "code",
   "execution_count": null,
   "metadata": {},
   "outputs": [],
   "source": [
    "# Pie Plot\n",
    "\n",
    "plt.pie(transaction_count[\"TransactionCOunt\"],\\\n",
    "        labels=transaction_count[\"Month\"],\n",
    "       autopct=\"%1.1f%%\",\n",
    "       startangle=140,\n",
    "       )\n",
    "plt.title(\"Transaction Per Month\")\n",
    "plt.axis(\"equal\")\n",
    "plt.show()"
   ]
  },
  {
   "cell_type": "code",
   "execution_count": null,
   "metadata": {},
   "outputs": [],
   "source": [
    "# Line Plot\n",
    "\n",
    "plt.line(transaction_count[\"Month\"],\\\n",
    "         transaction_count[\"TransactionCount\"],\\\n",
    "         marker=\"o\"\n",
    "         linestyle=\"-\"\n",
    "         color=\"red\"     \n",
    "       )\n",
    "plt.title(\"Transaction Per Month\")\n",
    "plt.xlabel(\"Month\")\n",
    "plt.ylabel(\"Count\")\n",
    "plt.grid(True)\n",
    "plt.show()"
   ]
  }
 ],
 "metadata": {
  "kernelspec": {
   "display_name": "Python 3",
   "language": "python",
   "name": "python3"
  },
  "language_info": {
   "codemirror_mode": {
    "name": "ipython",
    "version": 3
   },
   "file_extension": ".py",
   "mimetype": "text/x-python",
   "name": "python",
   "nbconvert_exporter": "python",
   "pygments_lexer": "ipython3",
   "version": "3.7.4"
  }
 },
 "nbformat": 4,
 "nbformat_minor": 2
}
